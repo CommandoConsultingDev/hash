{
 "cells": [
  {
   "cell_type": "code",
   "execution_count": 1,
   "metadata": {
    "scrolled": true
   },
   "outputs": [
    {
     "name": "stdout",
     "output_type": "stream",
     "text": [
      "Requirement already satisfied: llama-index in /Users/alfie/Documents/code/hash/apps/hash-agents/.venv/lib/python3.11/site-packages (0.6.9)\n",
      "Requirement already satisfied: dataclasses-json in /Users/alfie/Documents/code/hash/apps/hash-agents/.venv/lib/python3.11/site-packages (from llama-index) (0.5.7)\n",
      "Requirement already satisfied: langchain>=0.0.154 in /Users/alfie/Documents/code/hash/apps/hash-agents/.venv/lib/python3.11/site-packages (from llama-index) (0.0.170)\n",
      "Requirement already satisfied: numpy in /Users/alfie/Documents/code/hash/apps/hash-agents/.venv/lib/python3.11/site-packages (from llama-index) (1.24.3)\n",
      "Requirement already satisfied: tenacity<9.0.0,>=8.2.0 in /Users/alfie/Documents/code/hash/apps/hash-agents/.venv/lib/python3.11/site-packages (from llama-index) (8.2.2)\n",
      "Requirement already satisfied: openai>=0.26.4 in /Users/alfie/Documents/code/hash/apps/hash-agents/.venv/lib/python3.11/site-packages (from llama-index) (0.27.5)\n",
      "Requirement already satisfied: pandas in /Users/alfie/Documents/code/hash/apps/hash-agents/.venv/lib/python3.11/site-packages (from llama-index) (2.0.1)\n",
      "Requirement already satisfied: requests<2.30.0 in /Users/alfie/Documents/code/hash/apps/hash-agents/.venv/lib/python3.11/site-packages (from llama-index) (2.29.0)\n",
      "Requirement already satisfied: fsspec>=2023.5.0 in /Users/alfie/Documents/code/hash/apps/hash-agents/.venv/lib/python3.11/site-packages (from llama-index) (2023.5.0)\n",
      "Requirement already satisfied: tiktoken in /Users/alfie/Documents/code/hash/apps/hash-agents/.venv/lib/python3.11/site-packages (from llama-index) (0.3.3)\n",
      "Requirement already satisfied: PyYAML>=5.4.1 in /Users/alfie/Documents/code/hash/apps/hash-agents/.venv/lib/python3.11/site-packages (from langchain>=0.0.154->llama-index) (6.0)\n",
      "Requirement already satisfied: SQLAlchemy<3,>=1.4 in /Users/alfie/Documents/code/hash/apps/hash-agents/.venv/lib/python3.11/site-packages (from langchain>=0.0.154->llama-index) (1.4.48)\n",
      "Requirement already satisfied: aiohttp<4.0.0,>=3.8.3 in /Users/alfie/Documents/code/hash/apps/hash-agents/.venv/lib/python3.11/site-packages (from langchain>=0.0.154->llama-index) (3.8.4)\n",
      "Requirement already satisfied: numexpr<3.0.0,>=2.8.4 in /Users/alfie/Documents/code/hash/apps/hash-agents/.venv/lib/python3.11/site-packages (from langchain>=0.0.154->llama-index) (2.8.4)\n",
      "Requirement already satisfied: openapi-schema-pydantic<2.0,>=1.2 in /Users/alfie/Documents/code/hash/apps/hash-agents/.venv/lib/python3.11/site-packages (from langchain>=0.0.154->llama-index) (1.2.4)\n",
      "Requirement already satisfied: pydantic<2,>=1 in /Users/alfie/Documents/code/hash/apps/hash-agents/.venv/lib/python3.11/site-packages (from langchain>=0.0.154->llama-index) (1.10.7)\n",
      "Requirement already satisfied: marshmallow<4.0.0,>=3.3.0 in /Users/alfie/Documents/code/hash/apps/hash-agents/.venv/lib/python3.11/site-packages (from dataclasses-json->llama-index) (3.19.0)\n",
      "Requirement already satisfied: marshmallow-enum<2.0.0,>=1.5.1 in /Users/alfie/Documents/code/hash/apps/hash-agents/.venv/lib/python3.11/site-packages (from dataclasses-json->llama-index) (1.5.1)\n",
      "Requirement already satisfied: typing-inspect>=0.4.0 in /Users/alfie/Documents/code/hash/apps/hash-agents/.venv/lib/python3.11/site-packages (from dataclasses-json->llama-index) (0.8.0)\n",
      "Requirement already satisfied: tqdm in /Users/alfie/Documents/code/hash/apps/hash-agents/.venv/lib/python3.11/site-packages (from openai>=0.26.4->llama-index) (4.65.0)\n",
      "Requirement already satisfied: charset-normalizer<4,>=2 in /Users/alfie/Documents/code/hash/apps/hash-agents/.venv/lib/python3.11/site-packages (from requests<2.30.0->llama-index) (3.1.0)\n",
      "Requirement already satisfied: idna<4,>=2.5 in /Users/alfie/Documents/code/hash/apps/hash-agents/.venv/lib/python3.11/site-packages (from requests<2.30.0->llama-index) (3.4)\n",
      "Requirement already satisfied: urllib3<1.27,>=1.21.1 in /Users/alfie/Documents/code/hash/apps/hash-agents/.venv/lib/python3.11/site-packages (from requests<2.30.0->llama-index) (1.26.15)\n",
      "Requirement already satisfied: certifi>=2017.4.17 in /Users/alfie/Documents/code/hash/apps/hash-agents/.venv/lib/python3.11/site-packages (from requests<2.30.0->llama-index) (2022.12.7)\n",
      "Requirement already satisfied: python-dateutil>=2.8.2 in /Users/alfie/Documents/code/hash/apps/hash-agents/.venv/lib/python3.11/site-packages (from pandas->llama-index) (2.8.2)\n",
      "Requirement already satisfied: pytz>=2020.1 in /Users/alfie/Documents/code/hash/apps/hash-agents/.venv/lib/python3.11/site-packages (from pandas->llama-index) (2023.3)\n",
      "Requirement already satisfied: tzdata>=2022.1 in /Users/alfie/Documents/code/hash/apps/hash-agents/.venv/lib/python3.11/site-packages (from pandas->llama-index) (2023.3)\n",
      "Requirement already satisfied: regex>=2022.1.18 in /Users/alfie/Documents/code/hash/apps/hash-agents/.venv/lib/python3.11/site-packages (from tiktoken->llama-index) (2023.3.23)\n",
      "Requirement already satisfied: attrs>=17.3.0 in /Users/alfie/Documents/code/hash/apps/hash-agents/.venv/lib/python3.11/site-packages (from aiohttp<4.0.0,>=3.8.3->langchain>=0.0.154->llama-index) (23.1.0)\n",
      "Requirement already satisfied: multidict<7.0,>=4.5 in /Users/alfie/Documents/code/hash/apps/hash-agents/.venv/lib/python3.11/site-packages (from aiohttp<4.0.0,>=3.8.3->langchain>=0.0.154->llama-index) (6.0.4)\n",
      "Requirement already satisfied: async-timeout<5.0,>=4.0.0a3 in /Users/alfie/Documents/code/hash/apps/hash-agents/.venv/lib/python3.11/site-packages (from aiohttp<4.0.0,>=3.8.3->langchain>=0.0.154->llama-index) (4.0.2)\n",
      "Requirement already satisfied: yarl<2.0,>=1.0 in /Users/alfie/Documents/code/hash/apps/hash-agents/.venv/lib/python3.11/site-packages (from aiohttp<4.0.0,>=3.8.3->langchain>=0.0.154->llama-index) (1.9.2)\n",
      "Requirement already satisfied: frozenlist>=1.1.1 in /Users/alfie/Documents/code/hash/apps/hash-agents/.venv/lib/python3.11/site-packages (from aiohttp<4.0.0,>=3.8.3->langchain>=0.0.154->llama-index) (1.3.3)\n",
      "Requirement already satisfied: aiosignal>=1.1.2 in /Users/alfie/Documents/code/hash/apps/hash-agents/.venv/lib/python3.11/site-packages (from aiohttp<4.0.0,>=3.8.3->langchain>=0.0.154->llama-index) (1.3.1)\n",
      "Requirement already satisfied: packaging>=17.0 in /Users/alfie/Documents/code/hash/apps/hash-agents/.venv/lib/python3.11/site-packages (from marshmallow<4.0.0,>=3.3.0->dataclasses-json->llama-index) (23.1)\n",
      "Requirement already satisfied: typing-extensions>=4.2.0 in /Users/alfie/Documents/code/hash/apps/hash-agents/.venv/lib/python3.11/site-packages (from pydantic<2,>=1->langchain>=0.0.154->llama-index) (4.5.0)\n",
      "Requirement already satisfied: six>=1.5 in /Users/alfie/Documents/code/hash/apps/hash-agents/.venv/lib/python3.11/site-packages (from python-dateutil>=2.8.2->pandas->llama-index) (1.16.0)\n",
      "Requirement already satisfied: mypy-extensions>=0.3.0 in /Users/alfie/Documents/code/hash/apps/hash-agents/.venv/lib/python3.11/site-packages (from typing-inspect>=0.4.0->dataclasses-json->llama-index) (1.0.0)\n",
      "\n",
      "\u001b[1m[\u001b[0m\u001b[34;49mnotice\u001b[0m\u001b[1;39;49m]\u001b[0m\u001b[39;49m A new release of pip is available: \u001b[0m\u001b[31;49m23.1\u001b[0m\u001b[39;49m -> \u001b[0m\u001b[32;49m23.1.2\u001b[0m\n",
      "\u001b[1m[\u001b[0m\u001b[34;49mnotice\u001b[0m\u001b[1;39;49m]\u001b[0m\u001b[39;49m To update, run: \u001b[0m\u001b[32;49mpip install --upgrade pip\u001b[0m\n",
      "Requirement already satisfied: slack_sdk in /Users/alfie/Documents/code/hash/apps/hash-agents/.venv/lib/python3.11/site-packages (3.21.3)\n",
      "\n",
      "\u001b[1m[\u001b[0m\u001b[34;49mnotice\u001b[0m\u001b[1;39;49m]\u001b[0m\u001b[39;49m A new release of pip is available: \u001b[0m\u001b[31;49m23.1\u001b[0m\u001b[39;49m -> \u001b[0m\u001b[32;49m23.1.2\u001b[0m\n",
      "\u001b[1m[\u001b[0m\u001b[34;49mnotice\u001b[0m\u001b[1;39;49m]\u001b[0m\u001b[39;49m To update, run: \u001b[0m\u001b[32;49mpip install --upgrade pip\u001b[0m\n",
      "Requirement already satisfied: qdrant_client in /Users/alfie/Documents/code/hash/apps/hash-agents/.venv/lib/python3.11/site-packages (1.1.7)\n",
      "Requirement already satisfied: grpcio>=1.41.0 in /Users/alfie/Documents/code/hash/apps/hash-agents/.venv/lib/python3.11/site-packages (from qdrant_client) (1.54.0)\n",
      "Requirement already satisfied: grpcio-tools>=1.41.0 in /Users/alfie/Documents/code/hash/apps/hash-agents/.venv/lib/python3.11/site-packages (from qdrant_client) (1.54.0)\n",
      "Requirement already satisfied: httpx[http2]>=0.14.0 in /Users/alfie/Documents/code/hash/apps/hash-agents/.venv/lib/python3.11/site-packages (from qdrant_client) (0.24.0)\n",
      "Requirement already satisfied: numpy>=1.21 in /Users/alfie/Documents/code/hash/apps/hash-agents/.venv/lib/python3.11/site-packages (from qdrant_client) (1.24.3)\n",
      "Requirement already satisfied: portalocker<3.0.0,>=2.7.0 in /Users/alfie/Documents/code/hash/apps/hash-agents/.venv/lib/python3.11/site-packages (from qdrant_client) (2.7.0)\n",
      "Requirement already satisfied: pydantic<2.0,>=1.8 in /Users/alfie/Documents/code/hash/apps/hash-agents/.venv/lib/python3.11/site-packages (from qdrant_client) (1.10.7)\n",
      "Requirement already satisfied: typing-extensions<5.0.0,>=4.0.0 in /Users/alfie/Documents/code/hash/apps/hash-agents/.venv/lib/python3.11/site-packages (from qdrant_client) (4.5.0)\n",
      "Requirement already satisfied: urllib3<2.0.0,>=1.26.14 in /Users/alfie/Documents/code/hash/apps/hash-agents/.venv/lib/python3.11/site-packages (from qdrant_client) (1.26.15)\n",
      "Requirement already satisfied: protobuf<5.0dev,>=4.21.6 in /Users/alfie/Documents/code/hash/apps/hash-agents/.venv/lib/python3.11/site-packages (from grpcio-tools>=1.41.0->qdrant_client) (4.23.0)\n",
      "Requirement already satisfied: setuptools in /Users/alfie/Documents/code/hash/apps/hash-agents/.venv/lib/python3.11/site-packages (from grpcio-tools>=1.41.0->qdrant_client) (67.7.2)\n",
      "Requirement already satisfied: certifi in /Users/alfie/Documents/code/hash/apps/hash-agents/.venv/lib/python3.11/site-packages (from httpx[http2]>=0.14.0->qdrant_client) (2022.12.7)\n",
      "Requirement already satisfied: httpcore<0.18.0,>=0.15.0 in /Users/alfie/Documents/code/hash/apps/hash-agents/.venv/lib/python3.11/site-packages (from httpx[http2]>=0.14.0->qdrant_client) (0.17.0)\n",
      "Requirement already satisfied: idna in /Users/alfie/Documents/code/hash/apps/hash-agents/.venv/lib/python3.11/site-packages (from httpx[http2]>=0.14.0->qdrant_client) (3.4)\n",
      "Requirement already satisfied: sniffio in /Users/alfie/Documents/code/hash/apps/hash-agents/.venv/lib/python3.11/site-packages (from httpx[http2]>=0.14.0->qdrant_client) (1.3.0)\n",
      "Requirement already satisfied: h2<5,>=3 in /Users/alfie/Documents/code/hash/apps/hash-agents/.venv/lib/python3.11/site-packages (from httpx[http2]>=0.14.0->qdrant_client) (4.1.0)\n",
      "Requirement already satisfied: hyperframe<7,>=6.0 in /Users/alfie/Documents/code/hash/apps/hash-agents/.venv/lib/python3.11/site-packages (from h2<5,>=3->httpx[http2]>=0.14.0->qdrant_client) (6.0.1)\n",
      "Requirement already satisfied: hpack<5,>=4.0 in /Users/alfie/Documents/code/hash/apps/hash-agents/.venv/lib/python3.11/site-packages (from h2<5,>=3->httpx[http2]>=0.14.0->qdrant_client) (4.0.0)\n",
      "Requirement already satisfied: h11<0.15,>=0.13 in /Users/alfie/Documents/code/hash/apps/hash-agents/.venv/lib/python3.11/site-packages (from httpcore<0.18.0,>=0.15.0->httpx[http2]>=0.14.0->qdrant_client) (0.14.0)\n",
      "Requirement already satisfied: anyio<5.0,>=3.0 in /Users/alfie/Documents/code/hash/apps/hash-agents/.venv/lib/python3.11/site-packages (from httpcore<0.18.0,>=0.15.0->httpx[http2]>=0.14.0->qdrant_client) (3.6.2)\n",
      "\n",
      "\u001b[1m[\u001b[0m\u001b[34;49mnotice\u001b[0m\u001b[1;39;49m]\u001b[0m\u001b[39;49m A new release of pip is available: \u001b[0m\u001b[31;49m23.1\u001b[0m\u001b[39;49m -> \u001b[0m\u001b[32;49m23.1.2\u001b[0m\n",
      "\u001b[1m[\u001b[0m\u001b[34;49mnotice\u001b[0m\u001b[1;39;49m]\u001b[0m\u001b[39;49m To update, run: \u001b[0m\u001b[32;49mpip install --upgrade pip\u001b[0m\n"
     ]
    }
   ],
   "source": [
    "!pip install llama-index\n",
    "!pip install slack_sdk\n",
    "!pip install qdrant_client"
   ]
  },
  {
   "cell_type": "code",
   "execution_count": 2,
   "metadata": {
    "scrolled": true
   },
   "outputs": [
    {
     "name": "stderr",
     "output_type": "stream",
     "text": [
      "/Users/alfie/Documents/code/hash/apps/hash-agents/.venv/lib/python3.11/site-packages/tqdm/auto.py:21: TqdmWarning: IProgress not found. Please update jupyter and ipywidgets. See https://ipywidgets.readthedocs.io/en/stable/user_install.html\n",
      "  from .autonotebook import tqdm as notebook_tqdm\n"
     ]
    },
    {
     "data": {
      "text/plain": [
       "True"
      ]
     },
     "execution_count": 2,
     "metadata": {},
     "output_type": "execute_result"
    }
   ],
   "source": [
    "import os\n",
    "\n",
    "from dotenv import find_dotenv, load_dotenv\n",
    "from llama_index import GPTListIndex, SlackReader\n",
    "\n",
    "import logging\n",
    "import structlog\n",
    "import sys\n",
    "\n",
    "logging.basicConfig(stream=sys.stdout, level=logging.DEBUG)\n",
    "logging.getLogger().addHandler(logging.StreamHandler(stream=sys.stdout))\n",
    "\n",
    "load_dotenv()\n",
    "load_dotenv(dotenv_path=find_dotenv(filename=\".env.local\"), override=True)"
   ]
  },
  {
   "cell_type": "code",
   "execution_count": 3,
   "metadata": {},
   "outputs": [],
   "source": [
    "import openai\n",
    "openai.api_key = os.getenv(\"OPENAI_API_KEY\")"
   ]
  },
  {
   "cell_type": "code",
   "execution_count": 4,
   "metadata": {},
   "outputs": [],
   "source": [
    "logging.getLogger(\"urllib3.connectionpool\").setLevel(logging.CRITICAL)\n",
    "logging.getLogger(\"urllib3.util.retry\").setLevel(logging.CRITICAL)\n",
    "logging.getLogger(\"openai\").setLevel(logging.CRITICAL)\n",
    "logging.getLogger(\"httpcore\").setLevel(logging.CRITICAL)"
   ]
  },
  {
   "cell_type": "code",
   "execution_count": 5,
   "metadata": {},
   "outputs": [],
   "source": [
    "import json\n",
    "from tenacity import (\n",
    "    retry,\n",
    "    stop_after_attempt,\n",
    "    wait_random_exponential,\n",
    ")\n",
    "\n",
    "embedding_model = \"text-embedding-ada-002\"\n",
    "\n",
    "@retry(wait=wait_random_exponential(min=1, max=60), stop=stop_after_attempt(10))\n",
    "def create_embedding_with_backoff(**kwargs):\n",
    "    return openai.Embedding.create(**kwargs)\n",
    "\n",
    "def create_embedding(message, num: int | None, total: int | None):\n",
    "    logger.debug(\"Creating embedding\", num=num, total=total)\n",
    "    embedding = create_embedding_with_backoff(\n",
    "        input=json.dumps(message),\n",
    "        model=embedding_model,\n",
    "    )[\"data\"][0][\"embedding\"]\n",
    "    return {\n",
    "        \"embedding\": embedding,\n",
    "        \"message\": message,\n",
    "    }"
   ]
  },
  {
   "cell_type": "code",
   "execution_count": 6,
   "metadata": {},
   "outputs": [],
   "source": [
    "from collections import namedtuple\n",
    "from queue import Queue\n",
    "\n",
    "from attr import dataclass\n",
    "from notion_client import Client\n",
    "from notion_client.helpers import collect_paginated_api\n",
    "\n",
    "NotionBlockResult = namedtuple(\n",
    "    \"NotionBlockResult\",\n",
    "    [\"content_components\", \"sub_pages\"],\n",
    ")\n",
    "\n",
    "@dataclass\n",
    "class NotionBlockContent:\n",
    "    contents: str\n",
    "\n",
    "@dataclass\n",
    "class NotionBlockIdentifier:\n",
    "    identifier: str\n",
    "\n",
    "NotionBlockContentOrIdentifier = NotionBlockContent | NotionBlockIdentifier\n",
    "\n",
    "def traverse_notion_block(\n",
    "    notion_client: Client,\n",
    "    task_queue: Queue,\n",
    "    block_id,\n",
    ") -> NotionBlockResult:\n",
    "    print(f\"Getting children blocks of {block_id}\")\n",
    "\n",
    "    block_children = collect_paginated_api(\n",
    "        notion_client.blocks.children.list,\n",
    "        block_id=block_id,\n",
    "    )\n",
    "\n",
    "    sub_pages = []\n",
    "    content_components: list[NotionBlockContentOrIdentifier] = []\n",
    "\n",
    "    for block_child in block_children:\n",
    "        result_obj = block_child[block_child[\"type\"]]\n",
    "\n",
    "        if \"rich_text\" in result_obj:\n",
    "            for rich_text in result_obj[\"rich_text\"]:\n",
    "                # skip if doesn't have text object\n",
    "                if \"text\" in rich_text:\n",
    "                    text = rich_text[\"text\"][\"content\"]\n",
    "                    content_components.append(NotionBlockContent(text))\n",
    "                elif \"plain_text\" in rich_text:\n",
    "                    text = rich_text[\"plain_text\"]\n",
    "                    content_components.append(NotionBlockContent(text))\n",
    "        elif \"title\" in result_obj:\n",
    "            text = result_obj[\"title\"]\n",
    "            content_components.append(NotionBlockContent(text))\n",
    "        if block_child[\"has_children\"]:\n",
    "            task_queue.put(block_child[\"id\"])\n",
    "            if block_child[\"type\"] == \"child_page\":\n",
    "                sub_pages.append(block_child[\"id\"])\n",
    "            else:\n",
    "                content_components.append(NotionBlockIdentifier(block_child[\"id\"]))\n",
    "\n",
    "    return NotionBlockResult(content_components=content_components, sub_pages=sub_pages)"
   ]
  },
  {
   "cell_type": "code",
   "execution_count": 7,
   "metadata": {
    "scrolled": true
   },
   "outputs": [
    {
     "name": "stdout",
     "output_type": "stream",
     "text": [
      "DEBUG:httpx:load_ssl_context verify=True cert=None trust_env=True http2=False\n",
      "load_ssl_context verify=True cert=None trust_env=True http2=False\n",
      "DEBUG:httpx:load_verify_locations cafile='/Users/alfie/Documents/code/hash/apps/hash-agents/.venv/lib/python3.11/site-packages/certifi/cacert.pem'\n",
      "load_verify_locations cafile='/Users/alfie/Documents/code/hash/apps/hash-agents/.venv/lib/python3.11/site-packages/certifi/cacert.pem'\n",
      "Getting children blocks of 52b92f24e14b43be83f64c206f211413\n",
      "INFO:httpx:HTTP Request: GET https://api.notion.com/v1/blocks/52b92f24e14b43be83f64c206f211413/children \"HTTP/1.1 200 OK\"\n",
      "HTTP Request: GET https://api.notion.com/v1/blocks/52b92f24e14b43be83f64c206f211413/children \"HTTP/1.1 200 OK\"\n",
      "Getting children blocks of 3fd993fa-4202-40fb-967f-ce7d80784e3bGetting children blocks of 332983e9-93a8-4a1d-be0c-877dc4c64d39\n",
      "\n",
      "Getting children blocks of 612b1eb3-dff6-49bd-88dd-0484c7b8a4d3\n",
      "Getting children blocks of 20387f14-fbc7-475c-90ea-026bc6584310\n",
      "Getting children blocks of 6954ab5c-8bbc-4dec-afe0-618de444a797\n",
      "Getting children blocks of 76422395-5ea5-4050-aa48-32ab29b0ac31\n",
      "INFO:httpx:HTTP Request: GET https://api.notion.com/v1/blocks/332983e9-93a8-4a1d-be0c-877dc4c64d39/children \"HTTP/1.1 200 OK\"\n",
      "HTTP Request: GET https://api.notion.com/v1/blocks/332983e9-93a8-4a1d-be0c-877dc4c64d39/children \"HTTP/1.1 200 OK\"\n",
      "INFO:httpx:HTTP Request: GET https://api.notion.com/v1/blocks/76422395-5ea5-4050-aa48-32ab29b0ac31/children \"HTTP/1.1 200 OK\"\n",
      "HTTP Request: GET https://api.notion.com/v1/blocks/76422395-5ea5-4050-aa48-32ab29b0ac31/children \"HTTP/1.1 200 OK\"\n",
      "Getting children blocks of 49c3fb85-5a3b-4fe2-8e1d-aeb8793701bf\n",
      "INFO:httpx:HTTP Request: GET https://api.notion.com/v1/blocks/612b1eb3-dff6-49bd-88dd-0484c7b8a4d3/children \"HTTP/1.1 200 OK\"\n",
      "HTTP Request: GET https://api.notion.com/v1/blocks/612b1eb3-dff6-49bd-88dd-0484c7b8a4d3/children \"HTTP/1.1 200 OK\"\n",
      "INFO:httpx:HTTP Request: GET https://api.notion.com/v1/blocks/49c3fb85-5a3b-4fe2-8e1d-aeb8793701bf/children \"HTTP/1.1 200 OK\"\n",
      "HTTP Request: GET https://api.notion.com/v1/blocks/49c3fb85-5a3b-4fe2-8e1d-aeb8793701bf/children \"HTTP/1.1 200 OK\"\n",
      "INFO:httpx:HTTP Request: GET https://api.notion.com/v1/blocks/20387f14-fbc7-475c-90ea-026bc6584310/children \"HTTP/1.1 200 OK\"\n",
      "HTTP Request: GET https://api.notion.com/v1/blocks/20387f14-fbc7-475c-90ea-026bc6584310/children \"HTTP/1.1 200 OK\"\n",
      "Getting children blocks of 36fc4ecb-feaa-4e88-8dcb-4eab08f9cc99Getting children blocks of 0e19c419-2a41-423d-a03f-130b00f430c2\n",
      "\n",
      "INFO:httpx:HTTP Request: GET https://api.notion.com/v1/blocks/3fd993fa-4202-40fb-967f-ce7d80784e3b/children \"HTTP/1.1 200 OK\"\n",
      "HTTP Request: GET https://api.notion.com/v1/blocks/3fd993fa-4202-40fb-967f-ce7d80784e3b/children \"HTTP/1.1 200 OK\"\n",
      "INFO:httpx:HTTP Request: GET https://api.notion.com/v1/blocks/36fc4ecb-feaa-4e88-8dcb-4eab08f9cc99/children \"HTTP/1.1 200 OK\"\n",
      "HTTP Request: GET https://api.notion.com/v1/blocks/36fc4ecb-feaa-4e88-8dcb-4eab08f9cc99/children \"HTTP/1.1 200 OK\"\n",
      "INFO:httpx:HTTP Request: GET https://api.notion.com/v1/blocks/0e19c419-2a41-423d-a03f-130b00f430c2/children \"HTTP/1.1 200 OK\"\n",
      "HTTP Request: GET https://api.notion.com/v1/blocks/0e19c419-2a41-423d-a03f-130b00f430c2/children \"HTTP/1.1 200 OK\"\n",
      "INFO:httpx:HTTP Request: GET https://api.notion.com/v1/blocks/6954ab5c-8bbc-4dec-afe0-618de444a797/children \"HTTP/1.1 200 OK\"\n",
      "HTTP Request: GET https://api.notion.com/v1/blocks/6954ab5c-8bbc-4dec-afe0-618de444a797/children \"HTTP/1.1 200 OK\"\n"
     ]
    }
   ],
   "source": [
    "import concurrent.futures\n",
    "import os\n",
    "import queue\n",
    "import threading\n",
    "\n",
    "from notion_client import Client\n",
    "\n",
    "integration_token = os.getenv(\"NOTION_API_KEY\")\n",
    "page_ids = [\"52b92f24e14b43be83f64c206f211413\"]\n",
    "\n",
    "notion_client = Client(auth=integration_token)\n",
    "\n",
    "executor = concurrent.futures.ThreadPoolExecutor()\n",
    "task_queue = queue.Queue()\n",
    "results = {}\n",
    "\n",
    "\n",
    "def process_queue():\n",
    "    while True:\n",
    "        block_id = task_queue.get()\n",
    "        results[block_id] = executor.submit(\n",
    "            traverse_notion_block,\n",
    "            notion_client,\n",
    "            task_queue,\n",
    "            block_id,\n",
    "        )\n",
    "        task_queue.task_done()\n",
    "\n",
    "\n",
    "queue_thread = threading.Thread(target=process_queue)\n",
    "queue_thread.start()\n",
    "\n",
    "for page_id in page_ids:\n",
    "    task_queue.put(page_id)\n",
    "\n",
    "task_queue.join()"
   ]
  },
  {
   "cell_type": "code",
   "execution_count": 8,
   "metadata": {},
   "outputs": [
    {
     "data": {
      "text/plain": [
       "{'52b92f24e14b43be83f64c206f211413': <Future at 0x11d3c7ed0 state=finished returned NotionBlockResult>,\n",
       " '3fd993fa-4202-40fb-967f-ce7d80784e3b': <Future at 0x103cc1050 state=finished returned NotionBlockResult>,\n",
       " '332983e9-93a8-4a1d-be0c-877dc4c64d39': <Future at 0x11d3c7090 state=finished returned NotionBlockResult>,\n",
       " '612b1eb3-dff6-49bd-88dd-0484c7b8a4d3': <Future at 0x11d3bcf90 state=finished returned NotionBlockResult>,\n",
       " '20387f14-fbc7-475c-90ea-026bc6584310': <Future at 0x11f904390 state=finished returned NotionBlockResult>,\n",
       " '6954ab5c-8bbc-4dec-afe0-618de444a797': <Future at 0x11f906550 state=finished returned NotionBlockResult>,\n",
       " '76422395-5ea5-4050-aa48-32ab29b0ac31': <Future at 0x11f907610 state=finished returned NotionBlockResult>,\n",
       " '49c3fb85-5a3b-4fe2-8e1d-aeb8793701bf': <Future at 0x11d3c6450 state=finished returned NotionBlockResult>,\n",
       " '36fc4ecb-feaa-4e88-8dcb-4eab08f9cc99': <Future at 0x103c17450 state=finished returned NotionBlockResult>,\n",
       " '0e19c419-2a41-423d-a03f-130b00f430c2': <Future at 0x11f905290 state=finished returned NotionBlockResult>}"
      ]
     },
     "execution_count": 8,
     "metadata": {},
     "output_type": "execute_result"
    }
   ],
   "source": [
    "results"
   ]
  },
  {
   "cell_type": "code",
   "execution_count": 15,
   "metadata": {},
   "outputs": [
    {
     "name": "stdout",
     "output_type": "stream",
     "text": [
      "Collapsing text for page 52b92f24e14b43be83f64c206f211413\n",
      "Collapsing text for page 3fd993fa-4202-40fb-967f-ce7d80784e3b\n",
      "Collapsing text for page 332983e9-93a8-4a1d-be0c-877dc4c64d39\n",
      "Collapsing text for page 612b1eb3-dff6-49bd-88dd-0484c7b8a4d3\n",
      "Collapsing text for page 36fc4ecb-feaa-4e88-8dcb-4eab08f9cc99\n",
      "Collapsing text for page 49c3fb85-5a3b-4fe2-8e1d-aeb8793701bf\n"
     ]
    }
   ],
   "source": [
    "pages_to_explore = [*page_ids]\n",
    "explored_pages = set()\n",
    "pages_to_contents = {}\n",
    "\n",
    "\n",
    "def collapse_text(root_block_id, depth):\n",
    "    block_result = results[root_block_id].result()\n",
    "    pages_to_explore.extend(block_result.sub_pages)\n",
    "\n",
    "    block_contents = []\n",
    "    for content_component in block_result.content_components:\n",
    "        if isinstance(content_component, NotionBlockIdentifier):\n",
    "            block_contents.append(collapse_text(content_component.identifier, depth + 1))\n",
    "        else:\n",
    "            block_contents.append(content_component.contents)\n",
    "\n",
    "    indent = (depth * \"\\t\")\n",
    "    return indent + (\"\\n\" + indent).join(block_contents)\n",
    "\n",
    "while len(pages_to_explore) > 0:\n",
    "    page_id = pages_to_explore.pop(0)\n",
    "    if page_id in explored_pages:\n",
    "        continue\n",
    "    explored_pages.add(page_id)\n",
    "\n",
    "    print(f\"Collapsing text for page {page_id}\")\n",
    "    pages_to_contents[page_id] = collapse_text(page_id, 0)"
   ]
  },
  {
   "cell_type": "code",
   "execution_count": 16,
   "metadata": {},
   "outputs": [
    {
     "data": {
      "text/plain": [
       "{'52b92f24e14b43be83f64c206f211413': 'Subpage\\nTest Heading 1\\nHeading 1 Contents\\nHeading 1 Subpage\\nTest Heading 2\\nHeading 2 Contents\\nHeading 2 Subpage\\nTest Toggle Heading 1\\n\\tToggle Heading 1 Contents\\n\\tToggle Heading 1 Subpage\\n\\tTest Toggle Heading 2\\n\\t\\t\\tToggle Heading 2 Contents\\nBullet Point\\nBullet Point 2\\n\\tNested Bullet Point 2\\nCallout contents\\n\\tHeading in Callout\\n\\tHeading in Callout contents\\n\\tPage in Callout',\n",
       " '3fd993fa-4202-40fb-967f-ce7d80784e3b': 'Subpage Contents',\n",
       " '332983e9-93a8-4a1d-be0c-877dc4c64d39': 'Heading 1 Subpage',\n",
       " '612b1eb3-dff6-49bd-88dd-0484c7b8a4d3': 'Heading 2 Subpage Contents',\n",
       " '36fc4ecb-feaa-4e88-8dcb-4eab08f9cc99': 'Toggle Heading 1 Subpage Contents',\n",
       " '49c3fb85-5a3b-4fe2-8e1d-aeb8793701bf': 'Page in Callout Contents'}"
      ]
     },
     "execution_count": 16,
     "metadata": {},
     "output_type": "execute_result"
    }
   ],
   "source": [
    "pages_to_contents"
   ]
  },
  {
   "cell_type": "code",
   "execution_count": null,
   "metadata": {},
   "outputs": [],
   "source": [
    "def create_payload(document):\n",
    "    return {\n",
    "        \"text\": document.text if document.text else None,\n",
    "        \"doc_id\": document.doc_id if document.doc_id else None,\n",
    "        \"extra_info\": document.extra_info if document.extra_info else None\n",
    "    }"
   ]
  },
  {
   "cell_type": "code",
   "execution_count": null,
   "metadata": {},
   "outputs": [],
   "source": [
    "embedding = create_embedding(message=create_payload(documents[0]), num=0, total=1)"
   ]
  },
  {
   "cell_type": "code",
   "execution_count": null,
   "metadata": {},
   "outputs": [],
   "source": [
    "import concurrent.futures\n",
    "\n",
    "with concurrent.futures.ThreadPoolExecutor() as executor:\n",
    "    embeddings = list(\n",
    "        executor.map(\n",
    "            lambda idx_item: create_embedding(\n",
    "                message=create_payload(idx_item[1]),\n",
    "                num=idx_item[0],\n",
    "                total=len(documents),\n",
    "            ),\n",
    "            enumerate(documents),\n",
    "        ),\n",
    "    )"
   ]
  },
  {
   "cell_type": "code",
   "execution_count": null,
   "metadata": {},
   "outputs": [],
   "source": [
    "from llama_index import LLMPredictor, ServiceContext, PromptHelper\n",
    "from langchain.chat_models import ChatOpenAI\n",
    "\n",
    "llm_predictor = LLMPredictor(llm=ChatOpenAI(temperature=0, model_name=\"gpt-3.5-turbo\"))\n",
    "prompt_helper = PromptHelper.from_llm_predictor(llm_predictor=llm_predictor)\n",
    "service_context = ServiceContext.from_defaults(\n",
    "    llm_predictor=llm_predictor,\n",
    "    chunk_size_limit=1024,\n",
    "    prompt_helper=prompt_helper,\n",
    ")"
   ]
  },
  {
   "cell_type": "code",
   "execution_count": null,
   "metadata": {},
   "outputs": [],
   "source": [
    "from llama_index import GPTQdrantIndex\n",
    "import qdrant_client\n",
    "\n",
    "client = qdrant_client.QdrantClient(\n",
    "    url=\"http://localhost:6333\"\n",
    ")\n",
    "index = GPTVectorStoreIndex.from_documents(documents, service_context=service_context)\n",
    "query_engine = index.as_query_engine()"
   ]
  },
  {
   "cell_type": "code",
   "execution_count": null,
   "metadata": {},
   "outputs": [],
   "source": [
    "response = query_engine.query(\"My docker-compose isn't working, how can I fix it?\")\n",
    "response"
   ]
  },
  {
   "cell_type": "code",
   "execution_count": null,
   "metadata": {},
   "outputs": [],
   "source": [
    "response.response"
   ]
  }
 ],
 "metadata": {
  "kernelspec": {
   "display_name": "Python 3 (ipykernel)",
   "language": "python",
   "name": "python3"
  },
  "language_info": {
   "codemirror_mode": {
    "name": "ipython",
    "version": 3
   },
   "file_extension": ".py",
   "mimetype": "text/x-python",
   "name": "python",
   "nbconvert_exporter": "python",
   "pygments_lexer": "ipython3",
   "version": "3.11.3"
  }
 },
 "nbformat": 4,
 "nbformat_minor": 4
}
